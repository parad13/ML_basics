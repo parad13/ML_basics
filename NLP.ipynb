{
 "cells": [
  {
   "cell_type": "code",
   "execution_count": null,
   "metadata": {},
   "outputs": [],
   "source": [
    "import nltk\n",
    "from nltk import sent_tokenize,word_tokenize\n",
    "from nltk.corpus import stopwords\n",
    "from nltk.probability import FreqDist\n",
    "\n",
    "import matplotlib.pyplot as plt\n",
    "import numpy as np\n",
    "import pandas as pd"
   ]
  },
  {
   "cell_type": "code",
   "execution_count": 72,
   "metadata": {},
   "outputs": [
    {
     "name": "stderr",
     "output_type": "stream",
     "text": [
      "[nltk_data] Downloading package averaged_perceptron_tagger to\n",
      "[nltk_data]     C:\\Users\\bakul waral\\AppData\\Roaming\\nltk_data...\n",
      "[nltk_data]   Unzipping taggers\\averaged_perceptron_tagger.zip.\n"
     ]
    },
    {
     "data": {
      "text/plain": [
       "True"
      ]
     },
     "execution_count": 72,
     "metadata": {},
     "output_type": "execute_result"
    }
   ],
   "source": [
    "nltk.download('averaged_perceptron_tagger')"
   ]
  },
  {
   "cell_type": "code",
   "execution_count": 5,
   "metadata": {},
   "outputs": [
    {
     "name": "stdout",
     "output_type": "stream",
     "text": [
      "Get things done\n",
      "spaCy is designed to help you do real work â€” to build real products, or gather real insights. \n",
      "The library respects your time, and tries to avoid wasting it. It's easy to install, \n",
      "and its API is simple and productive. We like to think of spaCy as the Ruby on Rails \n",
      "of Natural Language Processing. \n",
      "\n"
     ]
    }
   ],
   "source": [
    "txt_file = open('E:/PARAS/other/neuro.txt')\n",
    "txt = txt_file.read()\n",
    "print(txt,'\\n')"
   ]
  },
  {
   "cell_type": "code",
   "execution_count": 6,
   "metadata": {},
   "outputs": [
    {
     "name": "stdout",
     "output_type": "stream",
     "text": [
      "4\n"
     ]
    }
   ],
   "source": [
    "sentences = sent_tokenize(txt)\n",
    "print(len(sentences))"
   ]
  },
  {
   "cell_type": "code",
   "execution_count": 91,
   "metadata": {},
   "outputs": [
    {
     "name": "stderr",
     "output_type": "stream",
     "text": [
      "[nltk_data] Downloading package maxent_ne_chunker to C:\\Users\\bakul\n",
      "[nltk_data]     waral\\AppData\\Roaming\\nltk_data...\n",
      "[nltk_data]   Unzipping chunkers\\maxent_ne_chunker.zip.\n"
     ]
    },
    {
     "data": {
      "text/plain": [
       "True"
      ]
     },
     "execution_count": 91,
     "metadata": {},
     "output_type": "execute_result"
    }
   ],
   "source": [
    "#nltk.download('punkt')\n",
    "nltk.download('maxent_ne_chunker')"
   ]
  },
  {
   "cell_type": "code",
   "execution_count": 7,
   "metadata": {},
   "outputs": [
    {
     "data": {
      "text/plain": [
       "['Get things done\\nspaCy is designed to help you do real work â€” to build real products, or gather real insights.',\n",
       " 'The library respects your time, and tries to avoid wasting it.',\n",
       " \"It's easy to install, \\nand its API is simple and productive.\",\n",
       " 'We like to think of spaCy as the Ruby on Rails \\nof Natural Language Processing.']"
      ]
     },
     "execution_count": 7,
     "metadata": {},
     "output_type": "execute_result"
    }
   ],
   "source": [
    "sentences = sent_tokenize(txt)\n",
    "len(sentences)\n",
    "sentences"
   ]
  },
  {
   "cell_type": "code",
   "execution_count": 8,
   "metadata": {},
   "outputs": [
    {
     "data": {
      "text/plain": [
       "['Get things done\\nspaCy is designed to help you do real work â€” to build real products, or gather real insights.',\n",
       " 'The library respects your time, and tries to avoid wasting it.',\n",
       " \"It's easy to install, \\nand its API is simple and productive.\",\n",
       " 'We like to think of spaCy as the Ruby on Rails \\nof Natural Language Processing.']"
      ]
     },
     "execution_count": 8,
     "metadata": {},
     "output_type": "execute_result"
    }
   ],
   "source": [
    "sentences"
   ]
  },
  {
   "cell_type": "code",
   "execution_count": 9,
   "metadata": {},
   "outputs": [
    {
     "data": {
      "text/plain": [
       "\"Get things done\\nspaCy is designed to help you do real work â€” to build real products, or gather real insights. \\nThe library respects your time, and tries to avoid wasting it. It's easy to install, \\nand its API is simple and productive. We like to think of spaCy as the Ruby on Rails \\nof Natural Language Processing.\""
      ]
     },
     "execution_count": 9,
     "metadata": {},
     "output_type": "execute_result"
    }
   ],
   "source": [
    "txt"
   ]
  },
  {
   "cell_type": "code",
   "execution_count": 15,
   "metadata": {},
   "outputs": [
    {
     "data": {
      "text/plain": [
       "['Get things done\\nspaCy is designed to help you do real work â€” to build real products, or gather real insights.',\n",
       " 'The library respects your time, and tries to avoid wasting it.',\n",
       " \"It's easy to install, \\nand its API is simple and productive.\",\n",
       " 'We like to think of spaCy as the Ruby on Rails \\nof Natural Language Processing.']"
      ]
     },
     "execution_count": 15,
     "metadata": {},
     "output_type": "execute_result"
    }
   ],
   "source": [
    "sentences"
   ]
  },
  {
   "cell_type": "code",
   "execution_count": 10,
   "metadata": {},
   "outputs": [
    {
     "name": "stdout",
     "output_type": "stream",
     "text": [
      "67\n",
      "['Get', 'things', 'done', 'spaCy', 'is', 'designed', 'to', 'help', 'you', 'do', 'real', 'work', 'â€', '”', 'to', 'build', 'real', 'products', ',', 'or', 'gather', 'real', 'insights', '.', 'The', 'library', 'respects', 'your', 'time', ',', 'and', 'tries', 'to', 'avoid', 'wasting', 'it', '.', 'It', \"'s\", 'easy', 'to', 'install', ',', 'and', 'its', 'API', 'is', 'simple', 'and', 'productive', '.', 'We', 'like', 'to', 'think', 'of', 'spaCy', 'as', 'the', 'Ruby', 'on', 'Rails', 'of', 'Natural', 'Language', 'Processing', '.']\n"
     ]
    }
   ],
   "source": [
    "words=word_tokenize(txt)\n",
    "print(len(words))\n",
    "print(words)"
   ]
  },
  {
   "cell_type": "code",
   "execution_count": 11,
   "metadata": {},
   "outputs": [
    {
     "data": {
      "text/plain": [
       "[('to', 5),\n",
       " ('.', 4),\n",
       " ('real', 3),\n",
       " (',', 3),\n",
       " ('and', 3),\n",
       " ('spaCy', 2),\n",
       " ('is', 2),\n",
       " ('of', 2),\n",
       " ('Get', 1),\n",
       " ('things', 1)]"
      ]
     },
     "execution_count": 11,
     "metadata": {},
     "output_type": "execute_result"
    }
   ],
   "source": [
    "from nltk.probability import FreqDist\n",
    "\n",
    "\n",
    "fdist=FreqDist(words)\n",
    "fdist.most_common(10)"
   ]
  },
  {
   "cell_type": "code",
   "execution_count": 12,
   "metadata": {},
   "outputs": [
    {
     "data": {
      "image/png": "[encoded data removed]",
      "text/plain": [
       "<Figure size 432x288 with 1 Axes>"
      ]
     },
     "metadata": {
      "needs_background": "light"
     },
     "output_type": "display_data"
    },
    {
     "data": {
      "text/plain": [
       "<matplotlib.axes._subplots.AxesSubplot at 0x1a1c7fc1708>"
      ]
     },
     "execution_count": 12,
     "metadata": {},
     "output_type": "execute_result"
    }
   ],
   "source": [
    "import matplotlib.pyplot as plt\n",
    "\n",
    "fdist.plot(20)"
   ]
  },
  {
   "cell_type": "code",
   "execution_count": 13,
   "metadata": {},
   "outputs": [
    {
     "name": "stdout",
     "output_type": "stream",
     "text": [
      "['get', 'things', 'done', 'spacy', 'is', 'designed', 'to', 'help', 'you', 'do', 'real', 'work', 'to', 'build', 'real', 'products', 'or', 'gather', 'real', 'insights', 'the', 'library', 'respects', 'your', 'time', 'and', 'tries', 'to', 'avoid', 'wasting', 'it', 'it', 'easy', 'to', 'install', 'and', 'its', 'api', 'is', 'simple', 'and', 'productive', 'we', 'like', 'to', 'think', 'of', 'spacy', 'as', 'the', 'ruby', 'on', 'rails', 'of', 'natural', 'language', 'processing']\n",
      "\n",
      "\n",
      "57\n"
     ]
    }
   ],
   "source": [
    "words_no_punc=[]\n",
    "\n",
    "#Removing punc marks\n",
    "for _ in words:\n",
    "    if _.isalpha():\n",
    "       \n",
    "        words_no_punc.append(_.lower())\n",
    "        \n",
    "print(words_no_punc)\n",
    "print('\\n')\n",
    "\n",
    "#Length\n",
    "print(len(words_no_punc))"
   ]
  },
  {
   "cell_type": "code",
   "execution_count": 14,
   "metadata": {},
   "outputs": [
    {
     "data": {
      "text/plain": [
       "[('to', 5),\n",
       " ('real', 3),\n",
       " ('and', 3),\n",
       " ('spacy', 2),\n",
       " ('is', 2),\n",
       " ('the', 2),\n",
       " ('it', 2),\n",
       " ('of', 2),\n",
       " ('get', 1),\n",
       " ('things', 1)]"
      ]
     },
     "execution_count": 14,
     "metadata": {},
     "output_type": "execute_result"
    }
   ],
   "source": [
    "fdist=FreqDist(words_no_punc)\n",
    "fdist.most_common(10)"
   ]
  },
  {
   "cell_type": "code",
   "execution_count": 18,
   "metadata": {},
   "outputs": [
    {
     "name": "stdout",
     "output_type": "stream",
     "text": [
      "['i', 'me', 'my', 'myself', 'we', 'our', 'ours', 'ourselves', 'you', \"you're\", \"you've\", \"you'll\", \"you'd\", 'your', 'yours', 'yourself', 'yourselves', 'he', 'him', 'his', 'himself', 'she', \"she's\", 'her', 'hers', 'herself', 'it', \"it's\", 'its', 'itself', 'they', 'them', 'their', 'theirs', 'themselves', 'what', 'which', 'who', 'whom', 'this', 'that', \"that'll\", 'these', 'those', 'am', 'is', 'are', 'was', 'were', 'be', 'been', 'being', 'have', 'has', 'had', 'having', 'do', 'does', 'did', 'doing', 'a', 'an', 'the', 'and', 'but', 'if', 'or', 'because', 'as', 'until', 'while', 'of', 'at', 'by', 'for', 'with', 'about', 'against', 'between', 'into', 'through', 'during', 'before', 'after', 'above', 'below', 'to', 'from', 'up', 'down', 'in', 'out', 'on', 'off', 'over', 'under', 'again', 'further', 'then', 'once', 'here', 'there', 'when', 'where', 'why', 'how', 'all', 'any', 'both', 'each', 'few', 'more', 'most', 'other', 'some', 'such', 'no', 'nor', 'not', 'only', 'own', 'same', 'so', 'than', 'too', 'very', 's', 't', 'can', 'will', 'just', 'don', \"don't\", 'should', \"should've\", 'now', 'd', 'll', 'm', 'o', 're', 've', 'y', 'ain', 'aren', \"aren't\", 'couldn', \"couldn't\", 'didn', \"didn't\", 'doesn', \"doesn't\", 'hadn', \"hadn't\", 'hasn', \"hasn't\", 'haven', \"haven't\", 'isn', \"isn't\", 'ma', 'mightn', \"mightn't\", 'mustn', \"mustn't\", 'needn', \"needn't\", 'shan', \"shan't\", 'shouldn', \"shouldn't\", 'wasn', \"wasn't\", 'weren', \"weren't\", 'won', \"won't\", 'wouldn', \"wouldn't\"]\n"
     ]
    }
   ],
   "source": [
    "#nltk.download('stopwords')\n",
    "from nltk.corpus import stopwords\n",
    "\n",
    "stopwords=stopwords.words('english')\n",
    "print(stopwords)"
   ]
  },
  {
   "cell_type": "code",
   "execution_count": 19,
   "metadata": {},
   "outputs": [
    {
     "name": "stdout",
     "output_type": "stream",
     "text": [
      "['get', 'things', 'done', 'spacy', 'designed', 'help', 'real', 'work', 'build', 'real', 'products', 'gather', 'real', 'insights', 'library', 'respects', 'time', 'tries', 'avoid', 'wasting', 'easy', 'install', 'api', 'simple', 'productive', 'like', 'think', 'spacy', 'ruby', 'rails', 'natural', 'language', 'processing']\n",
      "33\n"
     ]
    }
   ],
   "source": [
    "clean_words=[]\n",
    "\n",
    "for _ in words_no_punc:\n",
    "    if _ not in stopwords:\n",
    "        \n",
    "        clean_words.append(_)\n",
    "print(clean_words)\n",
    "print(len(clean_words))\n"
   ]
  },
  {
   "cell_type": "code",
   "execution_count": 20,
   "metadata": {},
   "outputs": [
    {
     "data": {
      "text/plain": [
       "[('real', 3),\n",
       " ('spacy', 2),\n",
       " ('get', 1),\n",
       " ('things', 1),\n",
       " ('done', 1),\n",
       " ('designed', 1),\n",
       " ('help', 1),\n",
       " ('work', 1),\n",
       " ('build', 1),\n",
       " ('products', 1)]"
      ]
     },
     "execution_count": 20,
     "metadata": {},
     "output_type": "execute_result"
    }
   ],
   "source": [
    "fdist=FreqDist(clean_words)\n",
    "fdist.most_common(10)"
   ]
  },
  {
   "cell_type": "code",
   "execution_count": 21,
   "metadata": {
    "scrolled": true
   },
   "outputs": [
    {
     "data": {
      "image/png": "[encoded data removed]",
      "text/plain": [
       "<Figure size 432x288 with 1 Axes>"
      ]
     },
     "metadata": {
      "needs_background": "light"
     },
     "output_type": "display_data"
    },
    {
     "data": {
      "text/plain": [
       "<matplotlib.axes._subplots.AxesSubplot at 0x1a1c88ff5c8>"
      ]
     },
     "execution_count": 21,
     "metadata": {},
     "output_type": "execute_result"
    }
   ],
   "source": [
    "fdist.plot(10)"
   ]
  },
  {
   "cell_type": "code",
   "execution_count": 33,
   "metadata": {},
   "outputs": [
    {
     "data": {
      "image/png": "[encoded data removed]",
      "text/plain": [
       "<Figure size 864x864 with 1 Axes>"
      ]
     },
     "metadata": {
      "needs_background": "light"
     },
     "output_type": "display_data"
    }
   ],
   "source": [
    "from wordcloud import WordCloud \n",
    "wordcloud=WordCloud().generate(txt) \n",
    "plt.figure(figsize=(12,12))\n",
    "plt.imshow(wordcloud)\n",
    "\n",
    "plt.axis('off')\n",
    "plt.show()"
   ]
  },
  {
   "cell_type": "code",
   "execution_count": 43,
   "metadata": {},
   "outputs": [
    {
     "data": {
      "image/png": "[encoded data removed]",
      "text/plain": [
       "<Figure size 864x864 with 1 Axes>"
      ]
     },
     "metadata": {
      "needs_background": "light"
     },
     "output_type": "display_data"
    }
   ],
   "source": [
    "char_mask=np.array(Image.open('E:/PARAS/NLP.png'))\n",
    "wordcloud=WordCloud(background_color='black',mask=char_mask).generate(txt)\n",
    "plt.figure(figsize=(12,12))\n",
    "plt.imshow(wordcloud)\n",
    "\n",
    "plt.axis('off')\n",
    "plt.show()"
   ]
  },
  {
   "cell_type": "code",
   "execution_count": 44,
   "metadata": {},
   "outputs": [
    {
     "data": {
      "text/plain": [
       "array([[[255, 255, 255],\n",
       "        [255, 255, 255],\n",
       "        [255, 255, 255],\n",
       "        ...,\n",
       "        [255, 255, 255],\n",
       "        [255, 255, 255],\n",
       "        [255, 255, 255]],\n",
       "\n",
       "       [[255, 255, 255],\n",
       "        [255, 255, 255],\n",
       "        [255, 255, 255],\n",
       "        ...,\n",
       "        [255, 255, 255],\n",
       "        [255, 255, 255],\n",
       "        [255, 255, 255]],\n",
       "\n",
       "       [[255, 255, 255],\n",
       "        [255, 255, 255],\n",
       "        [255, 255, 255],\n",
       "        ...,\n",
       "        [255, 255, 255],\n",
       "        [255, 255, 255],\n",
       "        [255, 255, 255]],\n",
       "\n",
       "       ...,\n",
       "\n",
       "       [[255, 255, 255],\n",
       "        [255, 255, 255],\n",
       "        [255, 255, 255],\n",
       "        ...,\n",
       "        [255, 255, 255],\n",
       "        [255, 255, 255],\n",
       "        [255, 255, 255]],\n",
       "\n",
       "       [[255, 255, 255],\n",
       "        [255, 255, 255],\n",
       "        [255, 255, 255],\n",
       "        ...,\n",
       "        [255, 255, 255],\n",
       "        [255, 255, 255],\n",
       "        [255, 255, 255]],\n",
       "\n",
       "       [[255, 255, 255],\n",
       "        [255, 255, 255],\n",
       "        [255, 255, 255],\n",
       "        ...,\n",
       "        [255, 255, 255],\n",
       "        [255, 255, 255],\n",
       "        [255, 255, 255]]], dtype=uint8)"
      ]
     },
     "execution_count": 44,
     "metadata": {},
     "output_type": "execute_result"
    }
   ],
   "source": [
    "char_mask"
   ]
  },
  {
   "cell_type": "code",
   "execution_count": 49,
   "metadata": {},
   "outputs": [
    {
     "name": "stdout",
     "output_type": "stream",
     "text": [
      "play\n",
      "play\n",
      "leav\n",
      "increas\n"
     ]
    }
   ],
   "source": [
    "from nltk.stem import PorterStemmer\n",
    "porter=PorterStemmer()\n",
    "word_list=['plays','playing','leaves','increases']\n",
    "for _ in word_list:\n",
    "    print(porter.stem(_))"
   ]
  },
  {
   "cell_type": "code",
   "execution_count": 51,
   "metadata": {},
   "outputs": [
    {
     "name": "stdout",
     "output_type": "stream",
     "text": [
      "play\n",
      "play\n",
      "leav\n",
      "increas\n"
     ]
    },
    {
     "data": {
      "text/plain": [
       "('arabic',\n",
       " 'danish',\n",
       " 'dutch',\n",
       " 'english',\n",
       " 'finnish',\n",
       " 'french',\n",
       " 'german',\n",
       " 'hungarian',\n",
       " 'italian',\n",
       " 'norwegian',\n",
       " 'porter',\n",
       " 'portuguese',\n",
       " 'romanian',\n",
       " 'russian',\n",
       " 'spanish',\n",
       " 'swedish')"
      ]
     },
     "execution_count": 51,
     "metadata": {},
     "output_type": "execute_result"
    }
   ],
   "source": [
    "from nltk.stem import SnowballStemmer\n",
    "porter=SnowballStemmer('english')\n",
    "word_list=['plays','playing','leaves','increases']\n",
    "for _ in word_list:\n",
    "    print(porter.stem(_))\n",
    "SnowballStemmer.languages    "
   ]
  },
  {
   "cell_type": "code",
   "execution_count": 65,
   "metadata": {},
   "outputs": [
    {
     "name": "stdout",
     "output_type": "stream",
     "text": [
      "plays\n",
      "playing\n",
      "leaves\n",
      "increases\n"
     ]
    }
   ],
   "source": [
    "from nltk.stem import WordNetLemmatizer\n",
    "lemma=WordNetLemmatizer()\n",
    "word_list=['plays','playing','leaves','increases']\n",
    "for _ in word_list:\n",
    "    #print(lemma.lemmatize(_,pos='a'))\n",
    "    #print(lemma.lemmatize(_,pos='v'))\n",
    "    #print(lemma.lemmatize(_,pos='n'))\n",
    "    print(lemma.lemmatize(_,pos='r'))\n",
    "    "
   ]
  },
  {
   "cell_type": "code",
   "execution_count": 55,
   "metadata": {},
   "outputs": [
    {
     "name": "stderr",
     "output_type": "stream",
     "text": [
      "[nltk_data] Downloading package wordnet to C:\\Users\\bakul\n",
      "[nltk_data]     waral\\AppData\\Roaming\\nltk_data...\n",
      "[nltk_data]   Unzipping corpora\\wordnet.zip.\n"
     ]
    },
    {
     "data": {
      "text/plain": [
       "True"
      ]
     },
     "execution_count": 55,
     "metadata": {},
     "output_type": "execute_result"
    }
   ],
   "source": [
    "import nltk\n",
    "nltk.download('wordnet')"
   ]
  },
  {
   "cell_type": "code",
   "execution_count": 70,
   "metadata": {},
   "outputs": [
    {
     "name": "stdout",
     "output_type": "stream",
     "text": [
      "am\n",
      "is\n",
      "was\n",
      "were\n",
      "had\n"
     ]
    }
   ],
   "source": [
    "from nltk import WordNetLemmatizer\n",
    "lemma=WordNetLemmatizer()\n",
    "word_list=['am','is','was','were','had']\n",
    "for _ in word_list:\n",
    "    #print(lemma.lemmatize(_,pos='a'))\n",
    "    #print(lemma.lemmatize(_,pos='v'))\n",
    "    #print(lemma.lemmatize(_,pos='n'))\n",
    "    print(lemma.lemmatize(_,pos='a'))\n",
    "    "
   ]
  },
  {
   "cell_type": "code",
   "execution_count": 74,
   "metadata": {},
   "outputs": [
    {
     "name": "stdout",
     "output_type": "stream",
     "text": [
      "[('studying', 'VBG'), ('study', 'NN'), ('studied', 'VBD'), (\"i'm\", 'IN'), ('the', 'DT')]\n"
     ]
    }
   ],
   "source": [
    "tag=nltk.pos_tag(['studying','study','studied','i\\'m','the'])\n",
    "print(tag)"
   ]
  },
  {
   "cell_type": "code",
   "execution_count": 83,
   "metadata": {},
   "outputs": [
    {
     "data": {
      "text/plain": [
       "[('It', 'PRP'),\n",
       " ('was', 'VBD'),\n",
       " ('one', 'CD'),\n",
       " ('of', 'IN'),\n",
       " ('the', 'DT'),\n",
       " ('fresh', 'JJ'),\n",
       " ('and', 'CC'),\n",
       " ('soothing', 'JJ'),\n",
       " ('morning', 'NN')]"
      ]
     },
     "execution_count": 83,
     "metadata": {},
     "output_type": "execute_result"
    }
   ],
   "source": [
    "sentence='It was one of the fresh and soothing morning'\n",
    "sentence1='The earth rotates around the sun'\n",
    "tokenized_words=word_tokenize(sentence)\n",
    "\n",
    "for _ in tokenized_words:\n",
    "    tagged_words=nltk.pos_tag(tokenized_words)\n",
    "tagged_words    "
   ]
  },
  {
   "cell_type": "code",
   "execution_count": 84,
   "metadata": {},
   "outputs": [
    {
     "name": "stdout",
     "output_type": "stream",
     "text": [
      "(S\n",
      "  It/PRP\n",
      "  was/VBD\n",
      "  one/CD\n",
      "  of/IN\n",
      "  the/DT\n",
      "  fresh/JJ\n",
      "  and/CC\n",
      "  (NP soothing/JJ morning/NN))\n"
     ]
    }
   ],
   "source": [
    "grammer='NP:{<DT>?<JJ>*<NN>}'\n",
    "\n",
    "parser = nltk.RegexpParser(grammer)\n",
    "\n",
    "output=parser.parse(tagged_words)\n",
    "print(output)\n",
    "\n",
    "output.draw()"
   ]
  },
  {
   "cell_type": "code",
   "execution_count": 85,
   "metadata": {},
   "outputs": [
    {
     "name": "stdout",
     "output_type": "stream",
     "text": [
      "(S\n",
      "  (NP It/PRP was/VBD one/CD of/IN the/DT)\n",
      "  fresh/JJ\n",
      "  (NP and/CC)\n",
      "  soothing/JJ\n",
      "  (NP morning/NN))\n"
     ]
    }
   ],
   "source": [
    "#Chinking example:\n",
    "# * - 0 or more repetations\n",
    "# + - 1 or more repetations\n",
    "\n",
    "#Grammer language/REGEX\n",
    "grammer = r\"\"\" NP: {<.*>+}\n",
    "            }<JJ>+{\"\"\"\n",
    "\n",
    "#Creating parser:\n",
    "parser = nltk.RegexpParser(grammer)\n",
    "\n",
    "#parsing strinng :\n",
    "output=parser.parse(tagged_words)\n",
    "print(output)\n",
    "\n",
    "#To visulize\n",
    "output.draw()"
   ]
  },
  {
   "cell_type": "code",
   "execution_count": 3,
   "metadata": {},
   "outputs": [
    {
     "name": "stdout",
     "output_type": "stream",
     "text": [
      "(S W/NNP H/NNP O/NNP)\n"
     ]
    }
   ],
   "source": [
    "#Sentence for Named Entity Recognition(REZ):\n",
    "sentence='Mr. smith made a deal on a beach of Switzerland near WHO'\n",
    "\n",
    "#Tokenizing words :\n",
    "tokenized_words = word_tokenize(sentence)\n",
    "\n",
    "#PoS tagging :\n",
    "for w in tokenized_words:\n",
    "    tagged_words = nltk.pos_tag(w)\n",
    "    \n",
    "#NER :\n",
    "N_E_R = nltk.ne_chunk(tagged_words,binary=True)\n",
    "\n",
    "print(N_E_R)\n",
    "\n",
    "N_E_R.draw()"
   ]
  },
  {
   "cell_type": "code",
   "execution_count": 93,
   "metadata": {},
   "outputs": [
    {
     "name": "stderr",
     "output_type": "stream",
     "text": [
      "[nltk_data] Downloading package words to C:\\Users\\bakul\n",
      "[nltk_data]     waral\\AppData\\Roaming\\nltk_data...\n",
      "[nltk_data]   Unzipping corpora\\words.zip.\n"
     ]
    },
    {
     "data": {
      "text/plain": [
       "True"
      ]
     },
     "execution_count": 93,
     "metadata": {},
     "output_type": "execute_result"
    }
   ],
   "source": [
    "nltk.download('words')\n",
    "    "
   ]
  },
  {
   "cell_type": "code",
   "execution_count": 4,
   "metadata": {},
   "outputs": [
    {
     "name": "stdout",
     "output_type": "stream",
     "text": [
      "(S ./.)\n"
     ]
    }
   ],
   "source": [
    "import nltk\n",
    "#Sentence for NER:\n",
    "sentence=\"Figure 100: Python implementation when a binary value is False.\"\n",
    "\n",
    "#Tokenizing words :\n",
    "tokenized_words = nltk.word_tokenize(sentence)\n",
    "\n",
    "#PoS tagging :\n",
    "for i in tokenized_words:\n",
    "    tagged_words = nltk.pos_tag(i)\n",
    "    \n",
    "#NER :\n",
    "N_E_R = nltk.ne_chunk(tagged_words,binary=True)\n",
    "\n",
    "print(N_E_R)\n",
    "\n",
    "N_E_R.draw()"
   ]
  },
  {
   "cell_type": "code",
   "execution_count": 5,
   "metadata": {},
   "outputs": [
    {
     "name": "stdout",
     "output_type": "stream",
     "text": [
      "(S ./.)\n"
     ]
    }
   ],
   "source": [
    "import nltk\n",
    "#Sentence for NER:\n",
    "sentence=\"When the binary value is True, then it will only show whether a particular entity is named entity or not. It will not show any further details on it.\"\n",
    "\n",
    "#Tokenizing words :\n",
    "tokenized_words = nltk.word_tokenize(sentence)\n",
    "\n",
    "#PoS tagging :\n",
    "for i in tokenized_words:\n",
    "    tagged_words = nltk.pos_tag(i)\n",
    "    \n",
    "#NER :\n",
    "N_E_R = nltk.ne_chunk(tagged_words,binary=False)\n",
    "\n",
    "print(N_E_R)\n",
    "\n",
    "N_E_R.draw()"
   ]
  },
  {
   "cell_type": "code",
   "execution_count": 2,
   "metadata": {},
   "outputs": [
    {
     "name": "stdout",
     "output_type": "stream",
     "text": [
      "Synset('fun.n.01')\n",
      "Synset('fun.n.02')\n",
      "Synset('fun.n.03')\n",
      "Synset('playfulness.n.02')\n"
     ]
    }
   ],
   "source": [
    "from nltk.corpus import wordnet\n",
    "\n",
    "for _ in wordnet.synsets('FUN'):\n",
    "    print(_)"
   ]
  },
  {
   "cell_type": "code",
   "execution_count": 10,
   "metadata": {},
   "outputs": [
    {
     "name": "stdout",
     "output_type": "stream",
     "text": [
      "Lemma('happy.a.01.happy')\n",
      "\n",
      "\n",
      "Lemma('felicitous.s.02.felicitous')\n",
      "Lemma('felicitous.s.02.happy')\n",
      "\n",
      "\n",
      "Lemma('glad.s.02.glad')\n",
      "Lemma('glad.s.02.happy')\n",
      "\n",
      "\n",
      "Lemma('happy.s.04.happy')\n",
      "Lemma('happy.s.04.well-chosen')\n",
      "\n",
      "\n"
     ]
    }
   ],
   "source": [
    "for words in wordnet.synsets('HAPPY'):\n",
    "    for lemma in words.lemmas():\n",
    "        print(lemma)\n",
    "    print('\\n')"
   ]
  },
  {
   "cell_type": "raw",
   "metadata": {},
   "source": [
    "##All details for a word"
   ]
  },
  {
   "cell_type": "code",
   "execution_count": 20,
   "metadata": {},
   "outputs": [
    {
     "name": "stdout",
     "output_type": "stream",
     "text": [
      "foreground.n.01\n",
      "the part of a scene that is near the viewer\n",
      "[]\n"
     ]
    }
   ],
   "source": [
    "word=wordnet.synsets(\"Foreground\")[0]\n",
    "\n",
    "#checking name :\n",
    "print(word.name())\n",
    "\n",
    "#checking defination :\n",
    "print(word.definition())\n",
    "\n",
    "#checking examples :\n",
    "print(word.examples())"
   ]
  },
  {
   "cell_type": "code",
   "execution_count": 25,
   "metadata": {},
   "outputs": [
    {
     "name": "stdout",
     "output_type": "stream",
     "text": [
      "kind.n.01\n",
      "a category of things distinguished by some common characteristic or quality\n",
      "['sculpture is a form of art', 'what kinds of desserts are there?']\n",
      "Lemma('kind.n.01.kind')\n",
      "Lemma('kind.n.01.sort')\n",
      "Lemma('kind.n.01.form')\n",
      "Lemma('kind.n.01.variety')\n",
      "\n",
      "\n",
      "kind.a.01\n",
      "having or showing a tender and considerate and helpful nature; used especially of persons and their behavior\n",
      "['kind to sick patients', 'a kind master', 'kind words showing understanding and sympathy', 'thanked her for her kind letter']\n",
      "Lemma('kind.a.01.kind')\n",
      "\n",
      "\n",
      "kind.s.02\n",
      "agreeable, conducive to comfort\n",
      "['a dry climate kind to asthmatics', 'the genial sunshine', 'hot summer pavements are anything but kind to the feet']\n",
      "Lemma('kind.s.02.kind')\n",
      "Lemma('kind.s.02.genial')\n",
      "\n",
      "\n",
      "kind.s.03\n",
      "tolerant and forgiving under provocation\n",
      "['our neighbor was very kind about the window our son broke']\n",
      "Lemma('kind.s.03.kind')\n",
      "Lemma('kind.s.03.tolerant')\n",
      "\n",
      "\n"
     ]
    }
   ],
   "source": [
    "#all details for all meanings of a word .\n",
    "#word meaning with defination\n",
    "for words in wordnet.synsets('Kind'):\n",
    "    print(words.name())\n",
    "    print(words.definition())\n",
    "    print(words.examples())\n",
    "    \n",
    "    for lemma in words.lemmas():\n",
    "        print(lemma)\n",
    "    print('\\n')    "
   ]
  },
  {
   "cell_type": "code",
   "execution_count": 45,
   "metadata": {},
   "outputs": [
    {
     "name": "stdout",
     "output_type": "stream",
     "text": [
      "[Synset('cognition.n.01')]\n",
      "[Synset('aptitude.n.01'), Synset('bilingualism.n.01'), Synset('capacity.n.08'), Synset('creativity.n.01'), Synset('faculty.n.01'), Synset('hand.n.04'), Synset('intelligence.n.01'), Synset('know-how.n.01'), Synset('leadership.n.04'), Synset('originality.n.01'), Synset('skill.n.01'), Synset('skill.n.02'), Synset('superior_skill.n.01')]\n",
      "ability\n",
      "power\n"
     ]
    }
   ],
   "source": [
    "#Hypernyms :\n",
    "word = wordnet.synsets('Power')[2]\n",
    "\n",
    "#Find more abstract term\n",
    "print(word.hypernyms())\n",
    "#Find more specific term :\n",
    "print(word.hyponyms())\n",
    "#Get only name :\n",
    "print(word.lemmas()[0].name())\n",
    "print(word.lemmas()[1].name())\n",
    "#print(word.lemmas()[2].name()) #list out of index\n",
    "#print(word.lemmas()[3].name())"
   ]
  },
  {
   "cell_type": "code",
   "execution_count": 5,
   "metadata": {},
   "outputs": [
    {
     "name": "stdout",
     "output_type": "stream",
     "text": [
      "['fun', 'merriment', 'playfulness', 'fun', 'play', 'sport', 'fun', 'playfulness', 'fun']\n"
     ]
    }
   ],
   "source": [
    "from nltk.corpus import wordnet\n",
    "#synonyms\n",
    "synonyms=[]\n",
    "for words in wordnet.synsets('Fun'):\n",
    "    for lemma in words.lemmas():\n",
    "        synonyms.append(lemma.name())\n",
    "        \n",
    "print(synonyms)"
   ]
  },
  {
   "cell_type": "code",
   "execution_count": 10,
   "metadata": {},
   "outputs": [
    {
     "data": {
      "text/plain": [
       "['easy', 'soft', 'soft', 'voiced', 'soft', 'soft', 'lightly']"
      ]
     },
     "execution_count": 10,
     "metadata": {},
     "output_type": "execute_result"
    }
   ],
   "source": [
    "#antonyms\n",
    "antonyms=[]\n",
    "for words in wordnet.synsets('HArd'):\n",
    "    for lemma in words.lemmas():\n",
    "        if lemma.antonyms():\n",
    "            antonyms.append(lemma.antonyms()[0].name())\n",
    "        \n",
    "antonyms"
   ]
  },
  {
   "cell_type": "code",
   "execution_count": 13,
   "metadata": {},
   "outputs": [
    {
     "name": "stdout",
     "output_type": "stream",
     "text": [
      "['difficult', 'hard', 'hard', 'hard', 'hard', 'knockout', 'severe', 'arduous', 'backbreaking', 'grueling', 'gruelling', 'hard', 'heavy', 'laborious', 'operose', 'punishing', 'toilsome', 'unvoiced', 'voiceless', 'surd', 'hard', 'hard', 'concentrated', 'hard', 'intemperate', 'hard', 'heavy', 'hard', 'strong', 'hard', 'tough', 'hard', 'hard', 'hard', 'firmly', 'hard', 'hard', 'severely', 'hard', 'heavily', 'intemperately', 'hard', 'hard', 'hard', 'hard', 'hard']\n",
      "\n",
      "\n",
      "['easy', 'soft', 'soft', 'voiced', 'soft', 'soft', 'lightly']\n"
     ]
    }
   ],
   "source": [
    "#synonyms & antonyms\n",
    "synonyms=[]\n",
    "antonyms=[]\n",
    "for words in wordnet.synsets('Hard'):\n",
    "    for lemma in words.lemmas():\n",
    "        synonyms.append(lemma.name())\n",
    "        if lemma.antonyms():\n",
    "            antonyms.append(lemma.antonyms()[0].name())\n",
    "        \n",
    "print(synonyms)\n",
    "print('\\n')\n",
    "print(antonyms)\n",
    "\n",
    "\n"
   ]
  },
  {
   "cell_type": "code",
   "execution_count": 20,
   "metadata": {},
   "outputs": [
    {
     "name": "stdout",
     "output_type": "stream",
     "text": [
      "0.5217391304347826\n"
     ]
    }
   ],
   "source": [
    "#Finding similarity between words\n",
    "word1 = wordnet.synsets('ship','n')[0]\n",
    "\n",
    "word2 = wordnet.synsets('Man','n')[0]\n",
    "word3 = wordnet.synsets('boat','n')[0]\n",
    "word4 = wordnet.synsets('Human','n')[0]\n",
    "word5 = wordnet.synsets('nip','n')[0]\n",
    "print(word2.wup_similarity(word4))"
   ]
  },
  {
   "cell_type": "code",
   "execution_count": 28,
   "metadata": {},
   "outputs": [
    {
     "name": "stdout",
     "output_type": "stream",
     "text": [
      "{'jim': 7, 'and': 0, 'pam': 9, 'traveled': 12, 'by': 2, 'bus': 1, 'the': 10, 'train': 11, 'was': 14, 'late': 8, 'flight': 4, 'full': 5, 'traveling': 13, 'is': 6, 'expensive': 3}\n",
      "\n",
      "\n",
      "['and', 'bus', 'by', 'expensive', 'flight', 'full', 'is', 'jim', 'late', 'pam', 'the', 'train', 'traveled', 'traveling', 'was']\n",
      "\n",
      "\n",
      "[[1 1 1 0 0 0 0 1 0 1 0 0 1 0 0]\n",
      " [0 0 0 0 0 0 0 0 1 0 1 1 0 0 1]\n",
      " [0 0 1 1 2 1 1 0 0 0 1 0 0 1 1]]\n"
     ]
    }
   ],
   "source": [
    "from sklearn.feature_extraction.text import CountVectorizer\n",
    "\n",
    "#text for analysis\n",
    "sentences = [\"Jim and Pam traveled by bus.\",\n",
    "\"The train was late\",\n",
    "\"The flight was full. Traveling by flight is expensive.\"]\n",
    "\n",
    "#Create an object:\n",
    "cv = CountVectorizer()\n",
    "\n",
    "#Generating output for Bag of Words:\n",
    "B_O_W=cv.fit_transform(sentences).toarray()\n",
    "\n",
    "#Total words with their index in model:\n",
    "print(cv.vocabulary_)\n",
    "print('\\n')\n",
    "\n",
    "#Features :\n",
    "print(cv.get_feature_names())\n",
    "print('\\n')\n",
    "\n",
    "#show output :\n",
    "print(B_O_W)"
   ]
  },
  {
   "cell_type": "code",
   "execution_count": 29,
   "metadata": {},
   "outputs": [
    {
     "name": "stdout",
     "output_type": "stream",
     "text": [
      "{'this': 6, 'is': 3, 'the': 5, 'first': 2, 'document': 0, 'documnet': 1, 'second': 4}\n",
      "\n",
      "\n",
      "['document', 'documnet', 'first', 'is', 'second', 'the', 'this']\n",
      "\n",
      "\n",
      "[[1.         0.         1.40546511 1.         0.         1.\n",
      "  1.        ]\n",
      " [1.         1.40546511 0.         1.         1.40546511 1.\n",
      "  1.        ]]\n"
     ]
    }
   ],
   "source": [
    "from sklearn.feature_extraction.text import TfidfVectorizer\n",
    "\n",
    "#Sentences for analysis :\n",
    "sentences = [\"This is the first document\",\"This documnet is the second document\"]\n",
    "\n",
    "#Create an object:\n",
    "vectorizer = TfidfVectorizer(norm = None)\n",
    "\n",
    "#Generating output for TF_IDF :\n",
    "X = vectorizer.fit_transform(sentences).toarray()\n",
    "\n",
    "#Total words with their index in model:\n",
    "print(vectorizer.vocabulary_)\n",
    "print('\\n')\n",
    "\n",
    "#Features :\n",
    "print(vectorizer.get_feature_names())\n",
    "print('\\n')\n",
    "\n",
    "#show output :\n",
    "print(X)"
   ]
  }
 ],
 "metadata": {
  "kernelspec": {
   "display_name": "Python 3",
   "language": "python",
   "name": "python3"
  },
  "language_info": {
   "codemirror_mode": {
    "name": "ipython",
    "version": 3
   },
   "file_extension": ".py",
   "mimetype": "text/x-python",
   "name": "python",
   "nbconvert_exporter": "python",
   "pygments_lexer": "ipython3",
   "version": "3.7.6"
  }
 },
 "nbformat": 4,
 "nbformat_minor": 4
}
